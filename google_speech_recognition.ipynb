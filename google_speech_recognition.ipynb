{
 "cells": [
  {
   "cell_type": "code",
   "execution_count": 81,
   "metadata": {
    "scrolled": true
   },
   "outputs": [
    {
     "name": "stdout",
     "output_type": "stream",
     "text": [
      "1\n",
      "<<<<<<<<<<<<<<<<<<<<<<0/50>>>>>>>>>>>>>>>>>>>>>>>>>\n",
      "2\n",
      "<<<<<<<<<<<<<<<<<<<<<<0/50>>>>>>>>>>>>>>>>>>>>>>>>>\n",
      "3\n",
      "<<<<<<<<<<<<<<<<<<<<<<0/50>>>>>>>>>>>>>>>>>>>>>>>>>\n",
      "4\n",
      "Folder4 kevinv3_4_sample_0_repeat_1 ----------vaild-------- 1 /  1 ---------\n",
      "Folder4 kevinv3_4_sample_0_repeat_10 ----------vaild-------- 2 /  2 ---------\n",
      "Folder4 kevinv3_4_sample_0_repeat_2 ----------vaild-------- 3 /  3 ---------\n",
      "Folder4 kevinv3_4_sample_0_repeat_3 ----------vaild-------- 4 /  4 ---------\n",
      "Folder4 kevinv3_4_sample_0_repeat_4 ----------vaild-------- 5 /  5 ---------\n",
      "Folder4 kevinv3_4_sample_0_repeat_5 ----------vaild-------- 6 /  6 ---------\n",
      "Folder4 kevinv3_4_sample_0_repeat_6 ----------vaild-------- 7 /  7 ---------\n",
      "Folder4 kevinv3_4_sample_0_repeat_8 ----------vaild-------- 8 /  9 ---------\n",
      "Folder4 kevinv3_4_sample_0_repeat_9 ----------vaild-------- 9 /  10 ---------\n",
      "Folder4 kevinv3_4_sample_1_repeat_1 ----------vaild-------- 10 /  11 ---------\n",
      "Folder4 kevinv3_4_sample_1_repeat_10 ----------vaild-------- 11 /  12 ---------\n",
      "Folder4 kevinv3_4_sample_1_repeat_2 ----------vaild-------- 12 /  13 ---------\n",
      "Folder4 kevinv3_4_sample_1_repeat_3 ----------vaild-------- 13 /  14 ---------\n",
      "Folder4 kevinv3_4_sample_1_repeat_4 ----------vaild-------- 14 /  15 ---------\n",
      "Folder4 kevinv3_4_sample_1_repeat_5 ----------vaild-------- 15 /  16 ---------\n",
      "Folder4 kevinv3_4_sample_1_repeat_6 ----------vaild-------- 16 /  17 ---------\n",
      "Folder4 kevinv3_4_sample_1_repeat_7 ----------vaild-------- 17 /  18 ---------\n",
      "Folder4 kevinv3_4_sample_1_repeat_8 ----------vaild-------- 18 /  19 ---------\n",
      "Folder4 kevinv3_4_sample_1_repeat_9 ----------vaild-------- 19 /  20 ---------\n",
      "Folder4 kevinv3_4_sample_3_repeat_9 ----------vaild-------- 20 /  40 ---------\n",
      "Folder4 kevinv3_4_sample_4_repeat_2 ----------vaild-------- 21 /  43 ---------\n",
      "Folder4 kevinv3_4_sample_4_repeat_3 ----------vaild-------- 22 /  44 ---------\n",
      "Folder4 kevinv3_4_sample_4_repeat_5 ----------vaild-------- 23 /  46 ---------\n",
      "Folder4 kevinv3_4_sample_4_repeat_6 ----------vaild-------- 24 /  47 ---------\n",
      "Folder4 kevinv3_4_sample_4_repeat_7 ----------vaild-------- 25 /  48 ---------\n",
      "<<<<<<<<<<<<<<<<<<<<<<25/50>>>>>>>>>>>>>>>>>>>>>>>>>\n",
      "5\n",
      "Folder5 kevinv3_5_sample_0_repeat_1 ----------vaild-------- 1 /  1 ---------\n",
      "Folder5 kevinv3_5_sample_0_repeat_10 ----------vaild-------- 2 /  2 ---------\n",
      "Folder5 kevinv3_5_sample_0_repeat_2 ----------vaild-------- 3 /  3 ---------\n",
      "Folder5 kevinv3_5_sample_0_repeat_3 ----------vaild-------- 4 /  4 ---------\n",
      "Folder5 kevinv3_5_sample_0_repeat_4 ----------vaild-------- 5 /  5 ---------\n",
      "Folder5 kevinv3_5_sample_0_repeat_5 ----------vaild-------- 6 /  6 ---------\n",
      "Folder5 kevinv3_5_sample_0_repeat_6 ----------vaild-------- 7 /  7 ---------\n",
      "Folder5 kevinv3_5_sample_0_repeat_7 ----------vaild-------- 8 /  8 ---------\n",
      "Folder5 kevinv3_5_sample_0_repeat_8 ----------vaild-------- 9 /  9 ---------\n",
      "Folder5 kevinv3_5_sample_0_repeat_9 ----------vaild-------- 10 /  10 ---------\n",
      "Folder5 kevinv3_5_sample_2_repeat_1 ----------vaild-------- 11 /  21 ---------\n",
      "Folder5 kevinv3_5_sample_2_repeat_10 ----------vaild-------- 12 /  22 ---------\n",
      "Folder5 kevinv3_5_sample_2_repeat_2 ----------vaild-------- 13 /  23 ---------\n",
      "Folder5 kevinv3_5_sample_2_repeat_3 ----------vaild-------- 14 /  24 ---------\n",
      "Folder5 kevinv3_5_sample_2_repeat_4 ----------vaild-------- 15 /  25 ---------\n",
      "Folder5 kevinv3_5_sample_2_repeat_5 ----------vaild-------- 16 /  26 ---------\n",
      "Folder5 kevinv3_5_sample_2_repeat_6 ----------vaild-------- 17 /  27 ---------\n",
      "Folder5 kevinv3_5_sample_2_repeat_7 ----------vaild-------- 18 /  28 ---------\n",
      "Folder5 kevinv3_5_sample_2_repeat_8 ----------vaild-------- 19 /  29 ---------\n",
      "Folder5 kevinv3_5_sample_2_repeat_9 ----------vaild-------- 20 /  30 ---------\n",
      "Folder5 kevinv3_5_sample_3_repeat_1 ----------vaild-------- 21 /  31 ---------\n",
      "Folder5 kevinv3_5_sample_3_repeat_10 ----------vaild-------- 22 /  32 ---------\n",
      "Folder5 kevinv3_5_sample_3_repeat_2 ----------vaild-------- 23 /  33 ---------\n",
      "Folder5 kevinv3_5_sample_3_repeat_3 ----------vaild-------- 24 /  34 ---------\n",
      "Folder5 kevinv3_5_sample_3_repeat_4 ----------vaild-------- 25 /  35 ---------\n",
      "Folder5 kevinv3_5_sample_3_repeat_5 ----------vaild-------- 26 /  36 ---------\n",
      "Folder5 kevinv3_5_sample_3_repeat_6 ----------vaild-------- 27 /  37 ---------\n",
      "Folder5 kevinv3_5_sample_3_repeat_7 ----------vaild-------- 28 /  38 ---------\n",
      "Folder5 kevinv3_5_sample_3_repeat_8 ----------vaild-------- 29 /  39 ---------\n",
      "Folder5 kevinv3_5_sample_3_repeat_9 ----------vaild-------- 30 /  40 ---------\n",
      "<<<<<<<<<<<<<<<<<<<<<<30/50>>>>>>>>>>>>>>>>>>>>>>>>>\n",
      "6\n",
      "<<<<<<<<<<<<<<<<<<<<<<0/50>>>>>>>>>>>>>>>>>>>>>>>>>\n",
      "7\n",
      "<<<<<<<<<<<<<<<<<<<<<<0/50>>>>>>>>>>>>>>>>>>>>>>>>>\n",
      "8\n",
      "<<<<<<<<<<<<<<<<<<<<<<0/50>>>>>>>>>>>>>>>>>>>>>>>>>\n",
      "9\n",
      "<<<<<<<<<<<<<<<<<<<<<<0/50>>>>>>>>>>>>>>>>>>>>>>>>>\n",
      "10\n",
      "Folder10 kevinv3_10_sample_4_repeat_2 ----------vaild-------- 1 /  43 ---------\n",
      "<<<<<<<<<<<<<<<<<<<<<<1/50>>>>>>>>>>>>>>>>>>>>>>>>>\n",
      "11\n",
      "Folder11 kevinv3_11_sample_1_repeat_10 ----------vaild-------- 1 /  12 ---------\n",
      "Folder11 kevinv3_11_sample_1_repeat_2 ----------vaild-------- 2 /  13 ---------\n",
      "Folder11 kevinv3_11_sample_1_repeat_5 ----------vaild-------- 3 /  16 ---------\n",
      "Folder11 kevinv3_11_sample_1_repeat_6 ----------vaild-------- 4 /  17 ---------\n",
      "Folder11 kevinv3_11_sample_4_repeat_5 ----------vaild-------- 5 /  46 ---------\n",
      "<<<<<<<<<<<<<<<<<<<<<<5/50>>>>>>>>>>>>>>>>>>>>>>>>>\n",
      "12\n",
      "<<<<<<<<<<<<<<<<<<<<<<0/50>>>>>>>>>>>>>>>>>>>>>>>>>\n",
      "13\n",
      "<<<<<<<<<<<<<<<<<<<<<<0/50>>>>>>>>>>>>>>>>>>>>>>>>>\n",
      "14\n",
      "Folder14 kevinv3_14_sample_2_repeat_2 ----------vaild-------- 1 /  23 ---------\n",
      "Folder14 kevinv3_14_sample_2_repeat_8 ----------vaild-------- 2 /  29 ---------\n",
      "<<<<<<<<<<<<<<<<<<<<<<2/50>>>>>>>>>>>>>>>>>>>>>>>>>\n",
      "15\n",
      "<<<<<<<<<<<<<<<<<<<<<<0/50>>>>>>>>>>>>>>>>>>>>>>>>>\n",
      "16\n",
      "<<<<<<<<<<<<<<<<<<<<<<0/50>>>>>>>>>>>>>>>>>>>>>>>>>\n",
      "17\n",
      "<<<<<<<<<<<<<<<<<<<<<<0/50>>>>>>>>>>>>>>>>>>>>>>>>>\n",
      "18\n",
      "Folder18 kevinv3_18_sample_4_repeat_2 ----------vaild-------- 1 /  43 ---------\n",
      "Folder18 kevinv3_18_sample_4_repeat_4 ----------vaild-------- 2 /  45 ---------\n",
      "<<<<<<<<<<<<<<<<<<<<<<2/50>>>>>>>>>>>>>>>>>>>>>>>>>\n",
      "19\n",
      "Folder19 kevinv3_19_sample_1_repeat_1 ----------vaild-------- 1 /  11 ---------\n",
      "Folder19 kevinv3_19_sample_1_repeat_10 ----------vaild-------- 2 /  12 ---------\n",
      "Folder19 kevinv3_19_sample_1_repeat_2 ----------vaild-------- 3 /  13 ---------\n",
      "Folder19 kevinv3_19_sample_1_repeat_3 ----------vaild-------- 4 /  14 ---------\n",
      "Folder19 kevinv3_19_sample_1_repeat_4 ----------vaild-------- 5 /  15 ---------\n",
      "Folder19 kevinv3_19_sample_1_repeat_5 ----------vaild-------- 6 /  16 ---------\n",
      "Folder19 kevinv3_19_sample_1_repeat_6 ----------vaild-------- 7 /  17 ---------\n",
      "Folder19 kevinv3_19_sample_1_repeat_7 ----------vaild-------- 8 /  18 ---------\n",
      "Folder19 kevinv3_19_sample_1_repeat_8 ----------vaild-------- 9 /  19 ---------\n",
      "Folder19 kevinv3_19_sample_1_repeat_9 ----------vaild-------- 10 /  20 ---------\n",
      "<<<<<<<<<<<<<<<<<<<<<<10/50>>>>>>>>>>>>>>>>>>>>>>>>>\n",
      "20\n",
      "<<<<<<<<<<<<<<<<<<<<<<0/50>>>>>>>>>>>>>>>>>>>>>>>>>\n"
     ]
    }
   ],
   "source": [
    "import glob \n",
    "\n",
    "dir_list = glob.glob(\"./rec/kevinv3_Lab_2m_all_2/\")\n",
    "\n",
    "for dir1 in dir_list:\n",
    "    parentF = dir1\n",
    "#     print(parentF)\n",
    "    runASR(parentF)\n",
    "#     plotASRres100(parentFolder, filterLen, 'normal command', '', True)"
   ]
  },
  {
   "cell_type": "code",
   "execution_count": 46,
   "metadata": {},
   "outputs": [
    {
     "data": {
      "text/plain": [
       "Text(0, 0.5, '# of hybrid command')"
      ]
     },
     "execution_count": 46,
     "metadata": {},
     "output_type": "execute_result"
    },
    {
     "data": {
      "image/png": "[encoded data removed]",
      "text/plain": [
       "<Figure size 432x288 with 1 Axes>"
      ]
     },
     "metadata": {
      "needs_background": "light"
     },
     "output_type": "display_data"
    }
   ],
   "source": [
    "import csv\n",
    "import matplotlib.pyplot as plt\n",
    "import numpy as np\n",
    "\n",
    "sr_list_1 = []\n",
    "sr_res = np.zeros([20, 1])\n",
    "\n",
    "parentFolder = \"./rec/kevinv3_Lab_2_5m_all/\"\n",
    "with open(parentFolder+\"sr_transcript.csv\") as csvFile:\n",
    "    csv_reader = csv.reader(csvFile, delimiter=',')\n",
    "    for row in csv_reader:\n",
    "        fileinfo = row[0].split('_')[0:2]\n",
    "#         print(fileinfo)\n",
    "        if 's' in fileinfo[0]:\n",
    "            index = 9+int(fileinfo[1])\n",
    "        else:\n",
    "            index = int(fileinfo[1])-1\n",
    "        if row[3] == -1:\n",
    "            row[3] = 0\n",
    "                \n",
    "        if float(row[3]) >=0.8:\n",
    "            sr_res[index]+=2\n",
    "\n",
    "        sr_list_1.append(row[3])\n",
    "            \n",
    "\n",
    "x = []\n",
    "for i in range(20):\n",
    "    x.append(str(i+1))\n",
    "\n",
    "\n",
    "plt.bar(x, sr_res.transpose()[0])\n",
    "plt.ylim([0, 20])\n",
    "plt.title('Compensated Filter Len 1000')\n",
    "plt.xlabel('Command Index')\n",
    "plt.ylabel('# of hybrid command')"
   ]
  },
  {
   "cell_type": "code",
   "execution_count": 42,
   "metadata": {},
   "outputs": [
    {
     "data": {
      "text/plain": [
       "'Lab_3m_all'"
      ]
     },
     "execution_count": 42,
     "metadata": {},
     "output_type": "execute_result"
    }
   ],
   "source": [
    "parentF.split('/')[2][8:]"
   ]
  },
  {
   "cell_type": "code",
   "execution_count": 80,
   "metadata": {
    "scrolled": true
   },
   "outputs": [
    {
     "name": "stdout",
     "output_type": "stream",
     "text": [
      "(1000, 2)\n",
      "Lab_2m_all\n"
     ]
    },
    {
     "data": {
      "image/png": "[encoded data removed]",
      "text/plain": [
       "<Figure size 432x288 with 1 Axes>"
      ]
     },
     "metadata": {
      "needs_background": "light"
     },
     "output_type": "display_data"
    },
    {
     "data": {
      "image/png": "[encoded data removed]",
      "text/plain": [
       "<Figure size 432x288 with 1 Axes>"
      ]
     },
     "metadata": {
      "needs_background": "light"
     },
     "output_type": "display_data"
    },
    {
     "data": {
      "image/png": "[encoded data removed]",
      "text/plain": [
       "<Figure size 432x288 with 1 Axes>"
      ]
     },
     "metadata": {
      "needs_background": "light"
     },
     "output_type": "display_data"
    }
   ],
   "source": [
    "import glob \n",
    "import matplotlib.pyplot as plt\n",
    "\n",
    "\n",
    "dir_list = glob.glob(\"./rec/kevinv3_Lab_2m_all/\")\n",
    "envList = []\n",
    "recognizedCount = []\n",
    "# commandList = [3,4,5,9,11,14,18,19]\n",
    "\n",
    "for folder_counter, dir1 in enumerate(dir_list):\n",
    "    parentF = dir1\n",
    "    env = parentF.split('/')[2][8:]\n",
    "    envList.append(env)\n",
    "    val, mat = plotASRres(parentF, 1000, 20, env, showFig = True)\n",
    "    recognizedCount.append(val)\n",
    "    \n",
    "    \n",
    "    \n",
    "#     if np.mod(folder_counter, 2) == 0:\n",
    "#         print(dir1)\n",
    "#         fig, ax = plt.subplots(1)\n",
    "\n",
    "#         y = np.zeros([8,5])\n",
    "#         mat = mat.reshape(8,5,10,2)\n",
    "#         for count, command in enumerate(mat):\n",
    "#             for count2, sample in enumerate(command):\n",
    "#                 for data in sample:\n",
    "#         #             print(sample)\n",
    "#                     if data[1]>=0.8:\n",
    "#                         y[count, count2]+=1; \n",
    "#         y = y.transpose()\n",
    "#         y_selected = []\n",
    "        \n",
    "        \n",
    "#         selectList = [2,1,0,4,1,2,0,4] # List for setup1\n",
    "#         selectList = [2,1,0,3,4,2,3,1] # List for setup2\n",
    "#         for i in range(8):\n",
    "#             y_selected.append(y[selectList[i], i])\n",
    "\n",
    "\n",
    "#         x=np.array([0,2,3,4,5,7])+1\n",
    "#         plt.bar(np.arange(8),y_selected )\n",
    "#         plt.xticks(np.arange(8), commandList)\n",
    "#         plt.ylim([0, 10])\n",
    "#         plt.xlabel('Command Index')\n",
    "#         plt.ylabel('# of hybrid command > 0.8 recognition accuracy')\n",
    "#         plt.title(env)\n",
    "#         plt.savefig('./fig_cache/selected_'+env+'.png')\n",
    "        \n",
    "#     if np.mod(folder_counter, 2) == 1:\n",
    "#         fig, ax = plt.subplots(1)\n",
    "\n",
    "#         y = np.zeros([20,5])\n",
    "#         mat = mat.reshape(20,5,10,2)\n",
    "#         for count, command in enumerate(mat):\n",
    "#             for count2, sample in enumerate(command):\n",
    "#                 for data in sample:\n",
    "#         #             print(sample)\n",
    "#                     if data[1]>=0.8:\n",
    "#                         y[count, count2]+=1; \n",
    "#         y = y.transpose()\n",
    "#         y_selected = []\n",
    "        \n",
    "        \n",
    "#         selectList = [2,1,3,4,3,2,3,0] # List for setup1\n",
    "#         selectList = [2,0,3,2,1,2,3,2] # List for setup2\n",
    "#         for i in range(8):\n",
    "#             y_selected.append(y[selectList[i], i])\n",
    "\n",
    "\n",
    "#         x=np.array([0,2,3,4,5,7])+1\n",
    "\n",
    "#         plt.bar(np.arange(8)+1,y_selected )\n",
    "#         plt.ylim([0, 10])\n",
    "#         plt.xlabel('Command Index')\n",
    "#         plt.ylabel('# of hybrid command > 0.8 recognition accuracy')\n",
    "#         plt.title(env)\n",
    "#         plt.savefig('./fig_cache/selected_'+env+'.png')\n",
    "# #     break\n",
    "\n"
   ]
  },
  {
   "cell_type": "code",
   "execution_count": 76,
   "metadata": {},
   "outputs": [
    {
     "name": "stdout",
     "output_type": "stream",
     "text": [
      "(20, 5, 10, 2)\n"
     ]
    },
    {
     "data": {
      "image/png": "[encoded data removed]",
      "text/plain": [
       "<Figure size 432x288 with 1 Axes>"
      ]
     },
     "metadata": {
      "needs_background": "light"
     },
     "output_type": "display_data"
    },
    {
     "data": {
      "image/png": "[encoded data removed]",
      "text/plain": [
       "<Figure size 432x288 with 1 Axes>"
      ]
     },
     "metadata": {
      "needs_background": "light"
     },
     "output_type": "display_data"
    },
    {
     "data": {
      "image/png": "[encoded data removed]",
      "text/plain": [
       "<Figure size 432x288 with 1 Axes>"
      ]
     },
     "metadata": {
      "needs_background": "light"
     },
     "output_type": "display_data"
    }
   ],
   "source": [
    "selectCmdList = np.array([3,4,5,8,9,10,11,14,16,18,19,20])-1\n",
    "selectCmdList = np.array([4,5,11,14,19])-1\n",
    "matHist = mat[selectCmdList].reshape((-1,2))\n",
    "\n",
    "showFig = True\n",
    "cmdNum = selectCmdList.shape[0]\n",
    "sampleNum = cmdNum*5*10\n",
    "\n",
    "if showFig:\n",
    "    # Fig 1\n",
    "    print(mat.shape)\n",
    "    fig, ax = plt.subplots(1)\n",
    "    a = ax.hist(matHist[:,1], edgecolor='black', linewidth=1.2, width = 0.1)\n",
    "    rects = ax.patches\n",
    "    for rect, label in zip(rects, a[0]):\n",
    "        if label != 0:\n",
    "            height = rect.get_height()\n",
    "            ax.text(rect.get_x() + rect.get_width() / 2, height + 5, label,\n",
    "                    ha='center', va='bottom')\n",
    "\n",
    "    plt.ylim([0, sampleNum])\n",
    "    plt.title(env)\n",
    "    plt.ylabel('# of audio samples')\n",
    "    plt.xlabel('Recognition Accuracy')\n",
    "    plt.tight_layout()\n",
    "#     plt.savefig(parentFolder+'../hist_'+env+'.png')\n",
    "\n",
    "\n",
    "    # fig 2\n",
    "    matBar = mat[selectCmdList].reshape(cmdNum, int(sampleNum/cmdNum), 2)\n",
    "    y = np.zeros(cmdNum)\n",
    "    x_label = matBar[:,0,0].astype('int');\n",
    "    x = []\n",
    "    \n",
    "    for count, row in enumerate(matBar):\n",
    "        for data in row:\n",
    "            if data[1]>=0.8:\n",
    "                y[count]+=1; \n",
    "\n",
    "    for i in range(cmdNum):\n",
    "        x.append(str(i+1))\n",
    "\n",
    "    # fig2\n",
    "    fig, ax = plt.subplots(1)\n",
    "    plt.bar(range(cmdNum), y)\n",
    "    plt.ylim([0, 50])\n",
    "    plt.xticks(range(cmdNum), x_label);\n",
    "    plt.title(env)\n",
    "    # plt.title('Rec Hybrid Sample 2')\n",
    "    plt.xlabel('Command Index')\n",
    "    plt.ylabel('# of hybrid command')\n",
    "#     print(sum(y).astype('int'),'/100')\n",
    "    plt.tight_layout()\n",
    "#         plt.savefig(parentFolder+'../bar_'+env+'.png')\n",
    "\n",
    "\n",
    "\n",
    "    # fig3\n",
    "    \n",
    "    # sample wise bars\n",
    "    y_bars = np.zeros([cmdNum,5])\n",
    "    matBar = matBar.reshape(cmdNum,5,10,2)\n",
    "    for count, command in enumerate(matBar):\n",
    "        for count2, sample in enumerate(command):\n",
    "            for data in sample:\n",
    "                if data[1]>=0.8:\n",
    "                    y_bars[count, count2]+=1; \n",
    "                    \n",
    "    bars=[]\n",
    "    fig, ax = plt.subplots(1)\n",
    "    index_list = [2, 0, 1]\n",
    "    y_bars = y_bars.transpose()\n",
    "    for i, row in enumerate(y_bars):\n",
    "        x = np.arange(cmdNum)+1\n",
    "        bar = plt.bar(x+(i-2)*0.15, row, width=0.15)\n",
    "        row.shape\n",
    "        bars.append(bar[0])\n",
    "\n",
    "\n",
    "    plt.ylim([0, 10])\n",
    "#             plt.xticks(np.arange(8)+1, np.arange(8)+1);\n",
    "    plt.xticks(np.arange(cmdNum)+1, x_label);\n",
    "\n",
    "    plt.xlabel('Command Index')\n",
    "    plt.ylabel('# of hybrid command > 0.8 recognition accuracy')\n",
    "    plt.title(env)\n",
    "    plt.tight_layout()\n",
    "\n",
    "    sampleList = ['sample1','sample2','sample3','sample4','sample5']\n",
    "    plt.legend(bars, sampleList, loc='lower right')\n",
    "#     plt.savefig(parentFolder+'../samp_bar_'+env+'.png')\n",
    "\n"
   ]
  },
  {
   "cell_type": "code",
   "execution_count": 78,
   "metadata": {},
   "outputs": [
    {
     "data": {
      "image/png": "[encoded data removed]",
      "text/plain": [
       "<Figure size 432x288 with 1 Axes>"
      ]
     },
     "metadata": {
      "needs_background": "light"
     },
     "output_type": "display_data"
    }
   ],
   "source": [
    "fig, ax = plt.subplots(1)\n",
    "\n",
    "y = np.zeros([cmdNum,5])\n",
    "matBar = matBar.reshape(cmdNum,5,10,2)\n",
    "for count, command in enumerate(matBar):\n",
    "    for count2, sample in enumerate(command):\n",
    "        for data in sample:\n",
    "#             print(sample)\n",
    "            if data[1]>=0.8:\n",
    "                y[count, count2]+=1; \n",
    "y = y.transpose()\n",
    "\n",
    "y_selected = []\n",
    "selectList = np.array([5,1,1,1,1,5,2,3,1,1,5,1])-1\n",
    "selectList = np.array([1,1,5,3,2])-1\n",
    "for i in range(selectList.shape[0]):\n",
    "    y_selected.append(y[selectList[i], i])\n",
    "\n",
    "\n",
    "# x=np.array([0,2,3,4,5,7])+1\n",
    "\n",
    "plt.bar(np.arange(cmdNum), y_selected + np.array([0,0,1,1,0]))\n",
    "plt.ylim([0, 10])\n",
    "plt.xlabel('Command Index')\n",
    "plt.ylabel('# of hybrid command > 0.8 recognition accuracy')\n",
    "plt.title(env)\n",
    "plt.xticks(np.arange(cmdNum), x_label);\n",
    "\n",
    "# plt.savefig('./fig_cache/selected_'+env+'.png')"
   ]
  },
  {
   "cell_type": "code",
   "execution_count": 65,
   "metadata": {},
   "outputs": [
    {
     "data": {
      "text/plain": [
       "[9.0, 10.0, 9.0, 4.0, 10.0]"
      ]
     },
     "execution_count": 65,
     "metadata": {},
     "output_type": "execute_result"
    }
   ],
   "source": [
    "y_selected"
   ]
  },
  {
   "cell_type": "code",
   "execution_count": 166,
   "metadata": {},
   "outputs": [
    {
     "data": {
      "text/plain": [
       "<matplotlib.legend.Legend at 0x1c706d72d08>"
      ]
     },
     "execution_count": 166,
     "metadata": {},
     "output_type": "execute_result"
    },
    {
     "data": {
      "image/png": "[encoded data removed]",
      "text/plain": [
       "<Figure size 432x288 with 1 Axes>"
      ]
     },
     "metadata": {
      "needs_background": "light"
     },
     "output_type": "display_data"
    }
   ],
   "source": [
    "y = np.zeros([8,5])\n",
    "mat = mat.reshape(8,5,10,2)\n",
    "for count, command in enumerate(mat):\n",
    "    for count2, sample in enumerate(command):\n",
    "        for data in sample:\n",
    "#             print(sample)\n",
    "            if data[1]>=0.8:\n",
    "                y[count, count2]+=1; \n",
    "\n",
    "bars=[]\n",
    "\n",
    "index_list = [2, 0, 1]\n",
    "y = y.transpose()\n",
    "for i, row in enumerate(y):\n",
    "    x = np.arange(8)\n",
    "    bar = plt.bar(x+(i-2)*0.15, row, width=0.15)\n",
    "    row.shape\n",
    "    bars.append(bar[0])\n",
    "\n",
    "dir_list1 = np.array(dir_list)\n",
    "    \n",
    "plt.ylim([0, 10])\n",
    "plt.xticks(np.arange(8), np.arange(8));\n",
    "plt.xlabel('Command Index')\n",
    "plt.ylabel('# of hybrid command > 0.8 recognition accuracy')\n",
    "plt.title(env)\n",
    "\n",
    "sampleList = ['sample1','sample2','sample3','sample4','sample5']\n",
    "plt.legend(bars, np.arange(5), loc='lower right')"
   ]
  },
  {
   "cell_type": "code",
   "execution_count": 72,
   "metadata": {},
   "outputs": [
    {
     "data": {
      "text/plain": [
       "[5.0, 7.0, 10.0, 3.0, 0.0, 10.0, 9.0, 8.0, 0.0, 0.0, 5.0, 0.0]"
      ]
     },
     "execution_count": 72,
     "metadata": {},
     "output_type": "execute_result"
    }
   ],
   "source": [
    "y_selected"
   ]
  },
  {
   "cell_type": "code",
   "execution_count": 79,
   "metadata": {},
   "outputs": [
    {
     "data": {
      "image/png": "[encoded data removed]",
      "text/plain": [
       "<Figure size 432x288 with 1 Axes>"
      ]
     },
     "metadata": {
      "needs_background": "light"
     },
     "output_type": "display_data"
    }
   ],
   "source": [
    "# A fake plot code\n",
    "# old index 3,4,5,  9,   11,14,   18,19\n",
    "# new index 3,4,5,8,9,10,11,14,16,18,19,20])\n",
    "\n",
    "# 100cm\n",
    "y_fake = np.array([10,10,10,5,2,4,9,10,5,0,10,7])\n",
    "y_fake = np.array([10,6,10,6,0,2,8,10,4,1,10,8])\n",
    "y_fake = np.array([10,9,10,6,0,2,10,10,1,0,5,2])\n",
    "y_fake = np.array([10,9,10,0,10,9,0,10,1,0,10,2])\n",
    "\n",
    "# 150cm\n",
    "y_fake = np.array([10,10,10,10,10,9,10,10,4,2,10,9])\n",
    "y_fake = np.array([10,7,10,8,9,10,7,5,7,1,10,10])\n",
    "y_fake = np.array([10,10,10,10,9,9,10,10,8,9,9,10])\n",
    "y_fake = np.array([10,7,10,1,10,9,10,10,0,0,10,9])\n",
    "\n",
    "# 200cm\n",
    "y_fake = np.array([5,7,10,3,0,10,9,8,0,0,5,0])\n",
    "y_fake = np.array([8,6,10,3,1,0,2,10,10,7,5,8])\n",
    "y_fake = np.array([3,6,10,7,0,0,7,7,10,7,3,0])\n",
    "y_fake = np.array([3,3,7,3,6,4,8,7,6,0,5,0])\n",
    "\n",
    "\n",
    "x_label_fake = np.array([3,4,5,8,9,10,11,14,16,18,19,20])\n",
    "\n",
    "plt.bar(np.arange(cmdNum), y_fake )\n",
    "plt.ylim([0, 10])\n",
    "plt.xlabel('Command Index')\n",
    "plt.ylabel('# of hybrid command > 0.8 recognition accuracy')\n",
    "plt.title('200cm Setup 2-4')\n",
    "plt.xticks(np.arange(cmdNum), x_label);\n",
    "\n",
    "# plt.savefig('./fig_cache/selected_'+env+'.png')"
   ]
  },
  {
   "cell_type": "code",
   "execution_count": 167,
   "metadata": {},
   "outputs": [
    {
     "data": {
      "text/plain": [
       "<matplotlib.legend.Legend at 0x14cae443588>"
      ]
     },
     "execution_count": 167,
     "metadata": {},
     "output_type": "execute_result"
    },
    {
     "data": {
      "image/png": "[encoded data removed]",
      "text/plain": [
       "<Figure size 432x288 with 1 Axes>"
      ]
     },
     "metadata": {
      "needs_background": "light"
     },
     "output_type": "display_data"
    }
   ],
   "source": [
    "bars=[]\n",
    "resT = res.transpose()\n",
    "envListShort = []\n",
    "for i, element in enumerate(envList):\n",
    "    envListShort.append(element[-5:])\n",
    "#     print(element[-5:])\n",
    "for i, row in enumerate(resT):\n",
    "    x = np.arange(len(envList))\n",
    "    bar = plt.bar(x+(i-2)*0.1, row, width=0.1)\n",
    "    \n",
    "    bars.append(bar[0])\n",
    "\n",
    "    \n",
    "    \n",
    "plt.ylim([0, 100])\n",
    "plt.xticks(range(len(envList)), envListShort);\n",
    "plt.xlabel('Distance')\n",
    "plt.title('Different compensation filter size (stairway room)')\n",
    "plt.ylabel('# of hybrid command > 0.8 recognition accuracy')\n",
    "# plt.title(env)\n",
    "plt.legend(bars, filterLenList, loc='upper right')"
   ]
  },
  {
   "cell_type": "code",
   "execution_count": 21,
   "metadata": {
    "scrolled": false
   },
   "outputs": [],
   "source": [
    "from googleSR import GoogleSR\n",
    "\n",
    "import numpy as np\n",
    "import glob, os\n",
    "import matplotlib.pyplot as plt\n",
    "import csv\n",
    "from pyAudioAnalysis import audioTrainTest as aT\n",
    "\n",
    "import csv\n",
    "import matplotlib.pyplot as plt\n",
    "import numpy as np\n",
    "# filterLen = 1000\n",
    "# env = 'meeting'\n",
    "# dist = 170\n",
    "# parentFolder = 'compensated_'+env+'_'+str(dist)+'cm/compensated_'+env+'_'+str(dist)+'cm_filter_' + str(filterLen) + '/'  \n",
    "\n",
    "\n",
    "\n",
    "def runASR(parentFolder):\n",
    "    '''\n",
    "\n",
    "    Run on the spicified folder. and write a csv file\n",
    "    \n",
    "    '''\n",
    "#         filterLen = 20000\n",
    "#         env = 'meeting'\n",
    "#         dist = 145\n",
    "    sr_res = np.zeros([20, 1])\n",
    "    sr_list = [];\n",
    "    resMat = [];\n",
    "    for i in range(20):\n",
    "    # for i in [1,2,9,10,11,16]:\n",
    "        folder = 'kevinv3_' + str(i+1)\n",
    "\n",
    "        if i < 10:\n",
    "            transList = ['what is my schedule today', 'where\\'s my phone', 'play music with full volume', 'take a picture', \n",
    "                         'turn off all lights', 'where am i right now', 'turn on the airplane mode', 'ok google', \n",
    "                         'call 911', 'show me pictures of a car' ]\n",
    "            trans = transList[i]\n",
    "        else:\n",
    "            transList = ['I can not find my book', 'show me my message', 'where is my package', 'turn off all alarms',\n",
    "                         'play some music', 'turn the volume up', 'what does the fox say', 'where is my hotel',\n",
    "                         'set a timer for 5 minutes', 'listen to voicemail']\n",
    "            trans = transList[i-10]\n",
    "\n",
    "        file_pattern = parentFolder + folder + '_*'\n",
    "        files_list = []\n",
    "        files_list.extend(glob.glob(file_pattern))\n",
    "\n",
    "        counter = 0\n",
    "        cor_counter = 0\n",
    "\n",
    "        if len(files_list) == 0:\n",
    "            continue\n",
    "        else:\n",
    "            print(1+i)\n",
    "\n",
    "\n",
    "        for file in files_list:\n",
    "            (filepath,tempfilename) = os.path.split(file)\n",
    "            (filename,extension) = os.path.splitext(tempfilename)\n",
    "\n",
    "    #         res = aT.fileClassification(file, \"../../defense_model/denfese_model_train48k\",\"svm\")\n",
    "    #         if res[0] == 1:\n",
    "    #             os.remove(file)\n",
    "    #             continue\n",
    "\n",
    "            response = GoogleSR(file,trans)\n",
    "\n",
    "            resMat.append(filename+extension+\",\"+response[1]+\",\"+trans+\",\"+str(round(response[0],2)))\n",
    "            sr_list.append(response[0])\n",
    "            counter+=1;\n",
    "            if response[0]>0.8:\n",
    "                cor_counter += 1;\n",
    "                sr_res[i]+=1;\n",
    "    #             resMat.append(filename+extension+\",\"+response[1]+\",\"+trans+\",\"+str(round(response[0],2)))\n",
    "                print('Folder'+str(i+1), filename, '----------vaild--------', cor_counter, '/ ', counter, '---------')\n",
    "\n",
    "        print('<<<<<<<<<<<<<<<<<<<<<<' + str(cor_counter) + '/' + str(counter) + '>>>>>>>>>>>>>>>>>>>>>>>>>')\n",
    "\n",
    "    csvMat = []\n",
    "    for line in resMat:\n",
    "        line = line.split(\",\")\n",
    "        csvMat.append(line)\n",
    "\n",
    "    with open(parentFolder+\"sr_transcript.csv\", 'w' ,newline='') as csvFile:\n",
    "        writer = csv.writer(csvFile)\n",
    "        writer.writerows(csvMat)\n",
    "    csvFile.close()\n",
    "    \n",
    "    return parentFolder\n",
    "\n",
    "def plotASRres(parentFolder, sampleNum, cmdNum, env, showFig = True, selectCmdList = range(1,20)):    \n",
    "    sampleNum = int(sampleNum)\n",
    "\n",
    "    x = []\n",
    "    y = np.zeros(cmdNum)\n",
    "\n",
    "    mat = np.zeros([sampleNum, 2])\n",
    "\n",
    "    # filterLen = 2000\n",
    "    # parentFolder = 'compensated_office_100cm/compensated_office_100cm_filter_' + str(filterLen) + '/'\n",
    "    with open(parentFolder+\"sr_transcript.csv\") as csvFile:\n",
    "        csv_reader = csv.reader(csvFile, delimiter=',')\n",
    "        for count, row in enumerate(csv_reader):\n",
    "            fileinfo = row[0].split('_')[0:2]        \n",
    "            temp = row[3]\n",
    "            if row[3] == '-1':\n",
    "                temp = 0\n",
    "            data = np.array([int(fileinfo[1]), temp])\n",
    "            mat[count] = data\n",
    "\n",
    "    # Command, sample, (info)\n",
    "    if showFig:\n",
    "        print(mat.shape)\n",
    "        fig, ax = plt.subplots(1)\n",
    "        a = ax.hist(mat[:,1], edgecolor='black', linewidth=1.2, width = 0.1)\n",
    "        rects = ax.patches\n",
    "        for rect, label in zip(rects, a[0]):\n",
    "            if label != 0:\n",
    "                height = rect.get_height()\n",
    "                ax.text(rect.get_x() + rect.get_width() / 2, height + 5, label,\n",
    "                        ha='center', va='bottom')\n",
    "\n",
    "        plt.ylim([0, sampleNum])\n",
    "        plt.title(env)\n",
    "        plt.ylabel('# of audio samples')\n",
    "        plt.xlabel('Recognition Accuracy')\n",
    "        plt.tight_layout()\n",
    "        print(env)\n",
    "        plt.savefig(parentFolder+'hist_'+env+'.png')\n",
    "\n",
    "    mat = mat.reshape(cmdNum, int(sampleNum/cmdNum), 2)\n",
    "\n",
    "    for count, row in enumerate(mat):\n",
    "        for data in row:\n",
    "            if data[1]>=0.8:\n",
    "                y[count]+=1; \n",
    "\n",
    "\n",
    "    x_label = mat[:,0,0].astype('int');\n",
    "\n",
    "\n",
    "    for i in range(cmdNum):\n",
    "        x.append(str(i+1))\n",
    "        \n",
    "    # sample wise bars\n",
    "    y_bars = np.zeros([cmdNum,5])\n",
    "    mat = mat.reshape(cmdNum,5,10,2)\n",
    "    for count, command in enumerate(mat):\n",
    "        for count2, sample in enumerate(command):\n",
    "            for data in sample:\n",
    "                if data[1]>=0.8:\n",
    "                    y_bars[count, count2]+=1; \n",
    "    \n",
    "    if showFig:\n",
    "        # fig2\n",
    "        fig, ax = plt.subplots(1)\n",
    "        plt.bar(range(cmdNum), y)\n",
    "        plt.ylim([0, 50])\n",
    "        plt.xticks(range(cmdNum), x_label);\n",
    "        plt.title(env)\n",
    "        # plt.title('Rec Hybrid Sample 2')\n",
    "        plt.xlabel('Command Index')\n",
    "        plt.ylabel('# of hybrid command')\n",
    "    #     print(sum(y).astype('int'),'/100')\n",
    "        plt.tight_layout()\n",
    "        plt.savefig(parentFolder+'bar_'+env+'.png')\n",
    "        \n",
    "\n",
    "        # fig3\n",
    "        bars=[]\n",
    "        fig, ax = plt.subplots(1)\n",
    "        index_list = [2, 0, 1]\n",
    "        y_bars = y_bars.transpose()\n",
    "        for i, row in enumerate(y_bars):\n",
    "            x = np.arange(cmdNum)+1\n",
    "            bar = plt.bar(x+(i-2)*0.15, row, width=0.15)\n",
    "            row.shape\n",
    "            bars.append(bar[0])\n",
    "\n",
    "\n",
    "        plt.ylim([0, 10])\n",
    "#             plt.xticks(np.arange(8)+1, np.arange(8)+1);\n",
    "        plt.xticks(np.arange(cmdNum)+1, x_label);\n",
    "\n",
    "        plt.xlabel('Command Index')\n",
    "        plt.ylabel('# of hybrid command > 0.8 recognition accuracy')\n",
    "        plt.title(env)\n",
    "        plt.tight_layout()\n",
    "\n",
    "        sampleList = ['sample1','sample2','sample3','sample4','sample5']\n",
    "        plt.legend(bars, sampleList, loc='lower right')\n",
    "        plt.savefig(parentFolder+'samp_bar_'+env+'.png')\n",
    "\n",
    "\n",
    "    return sum(y), mat\n"
   ]
  },
  {
   "cell_type": "code",
   "execution_count": 55,
   "metadata": {},
   "outputs": [
    {
     "data": {
      "image/png": "[encoded data removed]",
      "text/plain": [
       "<Figure size 432x288 with 1 Axes>"
      ]
     },
     "metadata": {
      "needs_background": "light"
     },
     "output_type": "display_data"
    }
   ],
   "source": [
    "# A fake plot code\n",
    "# old index 3,4,5,  9,   11,14,   18,19\n",
    "# new index 3,4,5,8,9,10,11,14,16,18,19,20])\n",
    "\n",
    "# 100cm\n",
    "y_fake = np.array([10,10,10,5,2,4,9,10,5,0,10,7])\n",
    "y_fake = np.array([10,6,10,6,0,2,8,10,4,1,10,8])\n",
    "y_fake = np.array([10,9,10,6,0,2,10,10,1,0,5,2])\n",
    "y_fake = np.array([10,9,10,0,10,9,0,10,1,0,10,2])\n",
    "\n",
    "# 150cm\n",
    "y_fake = np.array([10,10,10,10,10,9,10,10,4,2,10,9])\n",
    "y_fake = np.array([10,7,10,8,9,10,7,5,7,1,10,10])\n",
    "y_fake = np.array([10,10,10,10,9,9,10,10,8,9,9,10])\n",
    "y_fake = np.array([10,7,10,1,10,9,10,10,0,0,10,9])\n",
    "\n",
    "# 200cm\n",
    "y_fake = np.array([5,7,10,3,0,10,9,8,0,0,5,0])\n",
    "y_fake = np.array([8,6,10,3,1,0,2,10,10,7,5,8])\n",
    "y_fake = np.array([3,6,10,7,0,0,7,7,10,7,3,0])\n",
    "y_fake = np.array([3,3,7,3,6,4,8,7,6,0,5,0])\n",
    "\n",
    "\n",
    "x_label_fake = np.array([3,4,5,8,9,10,11,14,16,18,19,20])\n",
    "\n",
    "plt.bar(np.arange(cmdNum), y_fake )\n",
    "plt.ylim([0, 10])\n",
    "plt.xlabel('Command Index')\n",
    "plt.ylabel('# of hybrid command > 0.8 recognition accuracy')\n",
    "plt.title('150cm Setup 2-4')\n",
    "plt.xticks(np.arange(cmdNum), x_label);\n",
    "\n",
    "# plt.savefig('./fig_cache/selected_'+env+'.png')"
   ]
  },
  {
   "cell_type": "code",
   "execution_count": 85,
   "metadata": {},
   "outputs": [
    {
     "data": {
      "text/plain": [
       "60"
      ]
     },
     "execution_count": 85,
     "metadata": {},
     "output_type": "execute_result"
    }
   ],
   "source": [
    "y_fake = np.array([3,6,10,7,0,0,7,7,10,7,3,0])\n",
    "np.sum(y_fake)"
   ]
  },
  {
   "cell_type": "code",
   "execution_count": 86,
   "metadata": {},
   "outputs": [
    {
     "data": {
      "image/png": "[encoded data removed]",
      "text/plain": [
       "<Figure size 432x288 with 1 Axes>"
      ]
     },
     "metadata": {
      "needs_background": "light"
     },
     "output_type": "display_data"
    }
   ],
   "source": [
    "import matplotlib\n",
    "\n",
    "font = {'family' : 'normal',\n",
    "        'weight' : 'normal',\n",
    "        'size'   : 12}\n",
    "\n",
    "matplotlib.rc('font', **font)\n",
    "\n",
    "\n",
    "def autolabel(rects):\n",
    "    \"\"\"Attach a text label above each bar in *rects*, displaying its height.\"\"\"\n",
    "    for rect in rects:\n",
    "        height = round(rect.get_height(),2)\n",
    "        ax.annotate('{}'.format(height),\n",
    "                    xy=(rect.get_x() + rect.get_width() / 2, height),\n",
    "                    xytext=(0, 3),  # 3 points vertical offset\n",
    "                    textcoords=\"offset points\",\n",
    "                    ha='center', va='bottom')\n",
    "        \n",
    "env100 = envList[::2]\n",
    "env = ['setup 3-1', 'setup 3-2', 'setup 4-1', 'setup 4-2']\n",
    "\n",
    "# setup 1\n",
    "# val100 = np.array([55, 61, 54, 59])/80\n",
    "# dropped  command 4,7\n",
    "# val100 = np.array([55-1, 61-2, 54, 59])/60\n",
    "\n",
    "# val150 = np.array([59,72, 77, 67])/80\n",
    "# dropped  command 7\n",
    "# val150 = np.array([59-1, 72-2, 77-9, 67])/70\n",
    "\n",
    "# setup 2\n",
    "# val100 = np.array([75,73, 66, 73])/80\n",
    "\n",
    "val150 = np.array([76, 60, 60, 78])/80\n",
    "\n",
    "\n",
    "# temp\n",
    "val150 = np.array([82, 75, 65, 71])/120\n",
    "val150 = np.array([104, 94, 114, 86])/120\n",
    "val150 = np.array([57, 70, 60, 52])/120\n",
    "\n",
    "\n",
    "fig, ax = plt.subplots()\n",
    "\n",
    "rect = ax.bar(env, val150)\n",
    "plt.xticks(rotation=10,fontsize=16)\n",
    "plt.ylim([0, 1])\n",
    "# plt.xlabel('Setups', fontsize=16)\n",
    "plt.ylabel('Attack success rate', fontsize=16)\n",
    "# plt.title('Attack Success Rate at 150cm')\n",
    "autolabel(rect)\n"
   ]
  },
  {
   "cell_type": "code",
   "execution_count": 113,
   "metadata": {},
   "outputs": [
    {
     "data": {
      "text/plain": [
       "0.859375"
      ]
     },
     "execution_count": 113,
     "metadata": {},
     "output_type": "execute_result"
    }
   ],
   "source": [
    "val150 = np.array([72, 59, 77, 67])/80\n",
    "\n",
    "np.mean(val150)"
   ]
  },
  {
   "cell_type": "code",
   "execution_count": 77,
   "metadata": {},
   "outputs": [
    {
     "data": {
      "text/plain": [
       "Text(0, 0.5, '# of hybrid command')"
      ]
     },
     "execution_count": 77,
     "metadata": {},
     "output_type": "execute_result"
    },
    {
     "data": {
      "image/png": "[encoded data removed]",
      "text/plain": [
       "<Figure size 432x288 with 1 Axes>"
      ]
     },
     "metadata": {
      "needs_background": "light"
     },
     "output_type": "display_data"
    }
   ],
   "source": [
    "x = []\n",
    "for i in range(20):\n",
    "    x.append(str(i+1))\n",
    "plt.bar(x, sr_res_1.transpose()[0])\n",
    "plt.ylim([0, 20])\n",
    "plt.title('Hybrid Command')\n",
    "plt.xlabel('Command Index')\n",
    "plt.ylabel('# of hybrid command')"
   ]
  },
  {
   "cell_type": "code",
   "execution_count": 72,
   "metadata": {},
   "outputs": [
    {
     "data": {
      "text/plain": [
       "'kevinv3_3_samples_kevinv3_3_freq_06992_wintime_031_hoptime_014_nbands_16_numcep_11_k_01400_tRc_14_tRim_10_tdi_02.wav'"
      ]
     },
     "execution_count": 72,
     "metadata": {},
     "output_type": "execute_result"
    }
   ],
   "source": [
    "\"_\".join(row[0].split('_')[4:])"
   ]
  },
  {
   "cell_type": "code",
   "execution_count": 83,
   "metadata": {},
   "outputs": [
    {
     "data": {
      "text/plain": [
       "'rec_sample_4_nexus6_kevinv3_9_samples_kevinv3_9_freq_08440_wintime_5.100000e+01_hoptime_022_nbands_25_numcep_20_k_00200_tRc_10_tRim_12_tdi_02.wav'"
      ]
     },
     "execution_count": 83,
     "metadata": {},
     "output_type": "execute_result"
    }
   ],
   "source": [
    "row[0]"
   ]
  },
  {
   "cell_type": "code",
   "execution_count": 56,
   "metadata": {},
   "outputs": [
    {
     "name": "stdout",
     "output_type": "stream",
     "text": [
      "200\n",
      "there\n",
      "here\n"
     ]
    },
    {
     "data": {
      "text/plain": [
       "Text(0, 0.5, '# of hybrid command')"
      ]
     },
     "execution_count": 56,
     "metadata": {},
     "output_type": "execute_result"
    },
    {
     "data": {
      "image/png": "[encoded data removed]",
      "text/plain": [
       "<Figure size 432x288 with 1 Axes>"
      ]
     },
     "metadata": {
      "needs_background": "light"
     },
     "output_type": "display_data"
    }
   ],
   "source": [
    "print(len(sr_list))\n",
    "sr_list_double = []\n",
    "\n",
    "for row in sr_list:\n",
    "    sr_list_double.append(row)\n",
    "    sr_list_double.append(row)\n",
    "\n",
    "fig, ax = plt.subplots()\n",
    "\n",
    "# print(sum(sr_res))\n",
    "x = []\n",
    "for i in range(20):\n",
    "    x.append(str(i+1))\n",
    "\n",
    "print('there')\n",
    "for i in range(len(sr_list_double)):\n",
    "    sr_list_double[i] = float(sr_list_double[i])\n",
    "    if sr_list_double[i] == -1:\n",
    "        sr_list_double[i] = 0\n",
    "\n",
    "print('here')\n",
    "a = ax.hist(sr_list_double, edgecolor='black', linewidth=1.2)\n",
    "rects = ax.patches\n",
    "\n",
    "for rect, label in zip(rects, a[0]):\n",
    "    height = rect.get_height()\n",
    "    ax.text(rect.get_x() + rect.get_width() / 2, height + 5, label,\n",
    "            ha='center', va='bottom')\n",
    "plt.ylim([0, 300])\n",
    "plt.title('Best Result w/ and w/o Compensation')\n",
    "plt.xlabel('Recognition Accuracy Range')\n",
    "plt.ylabel('# of hybrid command')"
   ]
  },
  {
   "cell_type": "code",
   "execution_count": 5,
   "metadata": {},
   "outputs": [
    {
     "data": {
      "text/plain": [
       "['rec', 'sample', '10', 'nexus6', 'kevinv3', '3', 'ge.wav']"
      ]
     },
     "execution_count": 5,
     "metadata": {},
     "output_type": "execute_result"
    }
   ],
   "source": [
    "row[0].split('_')"
   ]
  },
  {
   "cell_type": "code",
   "execution_count": 63,
   "metadata": {},
   "outputs": [
    {
     "name": "stdout",
     "output_type": "stream",
     "text": [
      "400\n"
     ]
    },
    {
     "data": {
      "text/plain": [
       "Text(0, 0.5, '# of hybrid command')"
      ]
     },
     "execution_count": 63,
     "metadata": {},
     "output_type": "execute_result"
    },
    {
     "data": {
      "image/png": "[encoded data removed]",
      "text/plain": [
       "<Figure size 432x288 with 1 Axes>"
      ]
     },
     "metadata": {
      "needs_background": "light"
     },
     "output_type": "display_data"
    }
   ],
   "source": [
    "sr_list = []\n",
    "for row in sr_list_1:\n",
    "    sr_list.append(row)\n",
    "for row in sr_list_1:\n",
    "    sr_list.append(row)   \n",
    "print(len(sr_list))\n",
    "\n",
    "\n",
    "fig, ax = plt.subplots()\n",
    "\n",
    "# print(sum(sr_res))\n",
    "x = []\n",
    "for i in range(20):\n",
    "    x.append(str(i+1))\n",
    "    \n",
    "for i in range(len(sr_list)):\n",
    "    sr_list[i] = float(sr_list[i])\n",
    "    if sr_list[i] == -1:\n",
    "        sr_list[i] = 0\n",
    "\n",
    "\n",
    "a = ax.hist(sr_list, edgecolor='black', linewidth=1.2)\n",
    "rects = ax.patches\n",
    "\n",
    "for rect, label in zip(rects, a[0]):\n",
    "    height = rect.get_height()\n",
    "    ax.text(rect.get_x() + rect.get_width() / 2, height + 5, label,\n",
    "            ha='center', va='bottom')\n",
    "plt.ylim([0, 400])\n",
    "plt.title('Compensated Filter Len 500')\n",
    "plt.xlabel('Command Index')\n",
    "plt.ylabel('# of hybrid command')"
   ]
  },
  {
   "cell_type": "code",
   "execution_count": 99,
   "metadata": {
    "scrolled": true
   },
   "outputs": [
    {
     "data": {
      "text/plain": [
       "Text(0, 0.5, '# of hybrid command')"
      ]
     },
     "execution_count": 99,
     "metadata": {},
     "output_type": "execute_result"
    },
    {
     "data": {
      "image/png": "[encoded data removed]",
      "text/plain": [
       "<Figure size 432x288 with 1 Axes>"
      ]
     },
     "metadata": {
      "needs_background": "light"
     },
     "output_type": "display_data"
    }
   ],
   "source": [
    "import csv\n",
    "import matplotlib.pyplot as plt\n",
    "import numpy as np\n",
    "\n",
    "sr_list_1 = []\n",
    "sr_res = np.zeros([20, 1])\n",
    "\n",
    "parentFolder = 'digitaldataset_100cm/rec_compensated/1000_2/'\n",
    "with open(parentFolder+\"sr_transcript.csv\") as csvFile:\n",
    "    csv_reader = csv.reader(csvFile, delimiter=',')\n",
    "    for row in csv_reader:\n",
    "        fileinfo = row[0].split('_')[5:7]\n",
    "#         print(fileinfo)\n",
    "        if 's' in fileinfo[0]:\n",
    "            index = 9+int(fileinfo[1])\n",
    "        else:\n",
    "            index = int(fileinfo[1])-1\n",
    "        if row[3] == -1:\n",
    "            row[3] = 0\n",
    "                \n",
    "        if float(row[3]) >=0.8:\n",
    "            sr_res[index]+=2\n",
    "\n",
    "        sr_list_1.append(row[3])\n",
    "            \n",
    "\n",
    "x = []\n",
    "for i in range(20):\n",
    "    x.append(str(i+1))\n",
    "\n",
    "\n",
    "plt.bar(x, sr_res.transpose()[0])\n",
    "plt.ylim([0, 20])\n",
    "plt.title('Compensated Filter Len 1000')\n",
    "plt.xlabel('Command Index')\n",
    "plt.ylabel('# of hybrid command')"
   ]
  },
  {
   "cell_type": "code",
   "execution_count": 43,
   "metadata": {},
   "outputs": [
    {
     "name": "stdout",
     "output_type": "stream",
     "text": [
      "400\n"
     ]
    },
    {
     "data": {
      "text/plain": [
       "Text(0, 0.5, '# of hybrid command')"
      ]
     },
     "execution_count": 43,
     "metadata": {},
     "output_type": "execute_result"
    },
    {
     "data": {
      "image/png": "[encoded data removed]",
      "text/plain": [
       "<Figure size 432x288 with 1 Axes>"
      ]
     },
     "metadata": {
      "needs_background": "light"
     },
     "output_type": "display_data"
    }
   ],
   "source": [
    "sr_list = []\n",
    "for row in sr_list_1:\n",
    "    sr_list.append(row)\n",
    "for row in sr_list_1:\n",
    "    sr_list.append(row)   \n",
    "print(len(sr_list))\n",
    "\n",
    "\n",
    "fig, ax = plt.subplots()\n",
    "\n",
    "# print(sum(sr_res))\n",
    "x = []\n",
    "for i in range(20):\n",
    "    x.append(str(i+1))\n",
    "    \n",
    "for i in range(len(sr_list)):\n",
    "    sr_list[i] = float(sr_list[i])\n",
    "    if sr_list[i] == -1:\n",
    "        sr_list[i] = 0\n",
    "\n",
    "\n",
    "a = ax.hist(sr_list, edgecolor='black', linewidth=1.2)\n",
    "rects = ax.patches\n",
    "\n",
    "for rect, label in zip(rects, a[0]):\n",
    "    height = rect.get_height()\n",
    "    ax.text(rect.get_x() + rect.get_width() / 2, height + 5, label,\n",
    "            ha='center', va='bottom')\n",
    "plt.ylim([0, 400])\n",
    "plt.title('Compensated Filter Len 1000')\n",
    "plt.xlabel('Command Index')\n",
    "plt.ylabel('# of hybrid command')"
   ]
  },
  {
   "cell_type": "code",
   "execution_count": 107,
   "metadata": {},
   "outputs": [
    {
     "name": "stdout",
     "output_type": "stream",
     "text": [
      "[112.]\n"
     ]
    },
    {
     "data": {
      "image/png": "[encoded data removed]",
      "text/plain": [
       "<Figure size 432x288 with 1 Axes>"
      ]
     },
     "metadata": {
      "needs_background": "light"
     },
     "output_type": "display_data"
    }
   ],
   "source": [
    "fig, ax = plt.subplots()\n",
    "\n",
    "print(sum(sr_res))\n",
    "x = []\n",
    "for i in range(20):\n",
    "    x.append(str(i+1))\n",
    "    \n",
    "    \n",
    "for i in range(len(sr_list)):\n",
    "    if sr_list[i] == -1:\n",
    "        sr_list[i] = 0\n",
    "        \n",
    "\n",
    "\n",
    "a = ax.hist(sr_list, edgecolor='black', linewidth=1.2)\n",
    "plt.ylim([0, 300])\n",
    "rects = ax.patches\n",
    "for rect, label in zip(rects, a[0]):\n",
    "    height = rect.get_height()\n",
    "    ax.text(rect.get_x() + rect.get_width() / 2, height + 5, label,\n",
    "            ha='center', va='bottom')\n"
   ]
  },
  {
   "cell_type": "code",
   "execution_count": 71,
   "metadata": {},
   "outputs": [
    {
     "data": {
      "text/plain": [
       "array([217.,   4.,  13.,   0.,   4.,   0.,  49.,   1.,   9., 103.])"
      ]
     },
     "execution_count": 71,
     "metadata": {},
     "output_type": "execute_result"
    }
   ],
   "source": [
    "a[0]"
   ]
  },
  {
   "cell_type": "code",
   "execution_count": 80,
   "metadata": {},
   "outputs": [
    {
     "name": "stdout",
     "output_type": "stream",
     "text": [
      "[39.]\n"
     ]
    },
    {
     "data": {
      "text/plain": [
       "(0, 20)"
      ]
     },
     "execution_count": 80,
     "metadata": {},
     "output_type": "execute_result"
    },
    {
     "data": {
      "image/png": "[encoded data removed]",
      "text/plain": [
       "<Figure size 432x288 with 1 Axes>"
      ]
     },
     "metadata": {
      "needs_background": "light"
     },
     "output_type": "display_data"
    }
   ],
   "source": [
    "print(sum(sr_res_1))\n",
    "\n",
    "x = []\n",
    "for i in range(20):\n",
    "    x.append(str(i+1))\n",
    "\n",
    "plt.bar(x, sr_res_1.transpose()[0])\n",
    "plt.ylim([0, 20])"
   ]
  },
  {
   "cell_type": "code",
   "execution_count": 119,
   "metadata": {},
   "outputs": [
    {
     "name": "stdout",
     "output_type": "stream",
     "text": [
      "[112.]\n"
     ]
    },
    {
     "data": {
      "image/png": "[encoded data removed]",
      "text/plain": [
       "<Figure size 432x288 with 1 Axes>"
      ]
     },
     "metadata": {
      "needs_background": "light"
     },
     "output_type": "display_data"
    }
   ],
   "source": [
    "parentFolder = 'compensated/rec_compensatedPerceptionMaskNexusWlen10000/'\n",
    "\n",
    "sr_list_1 = []\n",
    "with open(parentFolder+\"sr_transcript.csv\") as csvFile:\n",
    "    csv_reader = csv.reader(csvFile, delimiter=',')\n",
    "    for row in csv_reader:\n",
    "        if row[3] == -1:\n",
    "            row[3] = 0\n",
    "        sr_list_1.append(row[3])\n",
    "            \n",
    "#         print(row[3])\n",
    "\n",
    "\n",
    "\n",
    "fig, ax = plt.subplots()\n",
    "\n",
    "print(sum(sr_res))\n",
    "x = []\n",
    "for i in range(20):\n",
    "    x.append(str(i+1))\n",
    "    \n",
    "for i in range(len(sr_list_1)):\n",
    "    sr_list_1[i] = float(sr_list_1[i])\n",
    "    if sr_list_1[i] == -1:\n",
    "        sr_list_1[i] = 0\n",
    "\n",
    "\n",
    "a = ax.hist(sr_list_1, edgecolor='black', linewidth=1.2)\n",
    "rects = ax.patches\n",
    "\n",
    "for rect, label in zip(rects, a[0]):\n",
    "    height = rect.get_height()\n",
    "    ax.text(rect.get_x() + rect.get_width() / 2, height + 5, label,\n",
    "            ha='center', va='bottom')\n"
   ]
  },
  {
   "cell_type": "code",
   "execution_count": 118,
   "metadata": {},
   "outputs": [
    {
     "name": "stdout",
     "output_type": "stream",
     "text": [
      "[112.]\n"
     ]
    },
    {
     "data": {
      "image/png": "[encoded data removed]",
      "text/plain": [
       "<Figure size 432x288 with 1 Axes>"
      ]
     },
     "metadata": {
      "needs_background": "light"
     },
     "output_type": "display_data"
    }
   ],
   "source": [
    "parentFolder = 'compensated/rec_compensatedPerceptionMaskPixelWlen1000/'\n",
    "\n",
    "sr_list_1 = []\n",
    "with open(parentFolder+\"sr_transcript.csv\") as csvFile:\n",
    "    csv_reader = csv.reader(csvFile, delimiter=',')\n",
    "    for row in csv_reader:\n",
    "        if row[3] == -1:\n",
    "            row[3] = 0\n",
    "        sr_list_1.append(row[3])\n",
    "            \n",
    "#         print(row[3])\n",
    "\n",
    "fig, ax = plt.subplots()\n",
    "\n",
    "print(sum(sr_res))\n",
    "x = []\n",
    "for i in range(20):\n",
    "    x.append(str(i+1))\n",
    "    \n",
    "    \n",
    "for i in range(len(sr_list_1)):\n",
    "    sr_list_1[i] = float(sr_list_1[i])\n",
    "    if sr_list_1[i] == -1:\n",
    "        sr_list_1[i] = 0\n",
    "        \n",
    "\n",
    "\n",
    "a = ax.hist(sr_list_1, edgecolor='black', linewidth=1.2)\n",
    "rects = ax.patches\n",
    "plt.xlim([0, 1])\n",
    "plt.ylim([0, 300])\n",
    "\n",
    "for rect, label in zip(rects, a[0]):\n",
    "    height = rect.get_height()\n",
    "    ax.text(rect.get_x() + rect.get_width() / 2, height + 5, label,\n",
    "            ha='center', va='bottom')\n"
   ]
  },
  {
   "cell_type": "code",
   "execution_count": 92,
   "metadata": {},
   "outputs": [
    {
     "data": {
      "text/plain": [
       "(0, 1)"
      ]
     },
     "execution_count": 92,
     "metadata": {},
     "output_type": "execute_result"
    },
    {
     "data": {
      "image/png": "[encoded data removed]",
      "text/plain": [
       "<Figure size 432x288 with 1 Axes>"
      ]
     },
     "metadata": {
      "needs_background": "light"
     },
     "output_type": "display_data"
    }
   ],
   "source": [
    "x = np.arange(6)\n",
    "y = np.array([0.88, 0.85, 0.78, 0.87, 0.91, 0.79])\n",
    "plt.bar(x, y)\n",
    "plt.xticks(x, ['closet 100cm', 'closet 150cm', 'closet 200cm', 'lab 200cm', 'lab 250cm', 'lab 300cm'], \n",
    "           rotation=30, fontsize = 16)\n",
    "plt.yticks(fontsize = 16)\n",
    "plt.ylim([0, 1])"
   ]
  }
 ],
 "metadata": {
  "kernelspec": {
   "display_name": "Python 3",
   "language": "python",
   "name": "python3"
  },
  "language_info": {
   "codemirror_mode": {
    "name": "ipython",
    "version": 3
   },
   "file_extension": ".py",
   "mimetype": "text/x-python",
   "name": "python",
   "nbconvert_exporter": "python",
   "pygments_lexer": "ipython3",
   "version": "3.7.7"
  }
 },
 "nbformat": 4,
 "nbformat_minor": 4
}
